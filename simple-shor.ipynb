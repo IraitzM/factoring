{
 "cells": [
  {
   "cell_type": "markdown",
   "source": [
    "# Shor's algorithm\r\n",
    "\r\n",
    "One should start from here when exploring quantum options for number factoring."
   ],
   "metadata": {}
  },
  {
   "cell_type": "code",
   "execution_count": 1,
   "source": [
    "import numpy as np\r\n",
    "from qiskit import QuantumCircuit, Aer, execute, transpile, assemble\r\n",
    "from qiskit.quantum_info.operators import Operator\r\n",
    "from qiskit_textbook.tools import array_to_latex\r\n",
    "from qiskit.visualization import plot_histogram\r\n",
    "import math\r\n",
    "from numpy.random import randint\r\n",
    "import pandas as pd\r\n",
    "from fractions import Fraction"
   ],
   "outputs": [],
   "metadata": {}
  },
  {
   "cell_type": "markdown",
   "source": [
    "We would need to find the unitary so that $U|y\\rangle = |a^r mod\\quad N\\rangle$ for our desired $N$. In our case $N=21$. $a$ can be randomly chosen but we will need to ensure it is not a non-trivial factor of our desired $N$."
   ],
   "metadata": {}
  },
  {
   "cell_type": "code",
   "execution_count": 2,
   "source": [
    "# Base parameters\r\n",
    "a = 2\r\n",
    "N = 15\r\n",
    "\r\n",
    "# Bits required to represent the number\r\n",
    "eig_qubits = math.ceil(math.log(N,2))\r\n",
    "length = 2**eig_qubits\r\n",
    "control_qubits = 6"
   ],
   "outputs": [],
   "metadata": {}
  },
  {
   "cell_type": "code",
   "execution_count": 3,
   "source": [
    "U_matrix = np.zeros((length,length), dtype=complex)\r\n",
    "for i in range(N):\r\n",
    "    ind = int((a*i)%N)\r\n",
    "    print(\"U|{}> = |{}>\".format(i, ind))\r\n",
    "    U_matrix[i,ind] = 1 + 0.j\r\n",
    "    \r\n",
    "for i in range(N, length):\r\n",
    "    print(\"U|{}> = |{}>\".format(i, i))\r\n",
    "    U_matrix[i,i] = 1 + 0.j"
   ],
   "outputs": [
    {
     "output_type": "stream",
     "name": "stdout",
     "text": [
      "U|0> = |0>\n",
      "U|1> = |2>\n",
      "U|2> = |4>\n",
      "U|3> = |6>\n",
      "U|4> = |8>\n",
      "U|5> = |10>\n",
      "U|6> = |12>\n",
      "U|7> = |14>\n",
      "U|8> = |1>\n",
      "U|9> = |3>\n",
      "U|10> = |5>\n",
      "U|11> = |7>\n",
      "U|12> = |9>\n",
      "U|13> = |11>\n",
      "U|14> = |13>\n",
      "U|15> = |15>\n"
     ]
    }
   ],
   "metadata": {}
  },
  {
   "cell_type": "code",
   "execution_count": 4,
   "source": [
    "       \r\n",
    "array_to_latex(U_matrix, pretext=\"\\\\text{U} = \")\r\n"
   ],
   "outputs": [
    {
     "output_type": "display_data",
     "data": {
      "text/plain": [
       "<IPython.core.display.Math object>"
      ],
      "text/latex": [
       "$\\displaystyle \n",
       "\\text{U} = \\begin{bmatrix}\n",
       "1 & 0 & 0 & 0 & 0 & 0 & 0 & 0 & 0 & 0 & 0 & 0 & 0 & 0 & 0 & 0  \\\\\n",
       "0 & 0 & 1 & 0 & 0 & 0 & 0 & 0 & 0 & 0 & 0 & 0 & 0 & 0 & 0 & 0  \\\\\n",
       "0 & 0 & 0 & 0 & 1 & 0 & 0 & 0 & 0 & 0 & 0 & 0 & 0 & 0 & 0 & 0  \\\\\n",
       "0 & 0 & 0 & 0 & 0 & 0 & 1 & 0 & 0 & 0 & 0 & 0 & 0 & 0 & 0 & 0  \\\\\n",
       "0 & 0 & 0 & 0 & 0 & 0 & 0 & 0 & 1 & 0 & 0 & 0 & 0 & 0 & 0 & 0  \\\\\n",
       "0 & 0 & 0 & 0 & 0 & 0 & 0 & 0 & 0 & 0 & 1 & 0 & 0 & 0 & 0 & 0  \\\\\n",
       "0 & 0 & 0 & 0 & 0 & 0 & 0 & 0 & 0 & 0 & 0 & 0 & 1 & 0 & 0 & 0  \\\\\n",
       "0 & 0 & 0 & 0 & 0 & 0 & 0 & 0 & 0 & 0 & 0 & 0 & 0 & 0 & 1 & 0  \\\\\n",
       "0 & 1 & 0 & 0 & 0 & 0 & 0 & 0 & 0 & 0 & 0 & 0 & 0 & 0 & 0 & 0  \\\\\n",
       "0 & 0 & 0 & 1 & 0 & 0 & 0 & 0 & 0 & 0 & 0 & 0 & 0 & 0 & 0 & 0  \\\\\n",
       "0 & 0 & 0 & 0 & 0 & 1 & 0 & 0 & 0 & 0 & 0 & 0 & 0 & 0 & 0 & 0  \\\\\n",
       "0 & 0 & 0 & 0 & 0 & 0 & 0 & 1 & 0 & 0 & 0 & 0 & 0 & 0 & 0 & 0  \\\\\n",
       "0 & 0 & 0 & 0 & 0 & 0 & 0 & 0 & 0 & 1 & 0 & 0 & 0 & 0 & 0 & 0  \\\\\n",
       "0 & 0 & 0 & 0 & 0 & 0 & 0 & 0 & 0 & 0 & 0 & 1 & 0 & 0 & 0 & 0  \\\\\n",
       "0 & 0 & 0 & 0 & 0 & 0 & 0 & 0 & 0 & 0 & 0 & 0 & 0 & 1 & 0 & 0  \\\\\n",
       "0 & 0 & 0 & 0 & 0 & 0 & 0 & 0 & 0 & 0 & 0 & 0 & 0 & 0 & 0 & 1  \\\\\n",
       "\\end{bmatrix}\n",
       "$$\n",
       "$"
      ]
     },
     "metadata": {}
    }
   ],
   "metadata": {}
  },
  {
   "cell_type": "code",
   "execution_count": 9,
   "source": [
    "def c_amod15(a, power):\r\n",
    "    \"\"\"Controlled multiplication by a mod 15\"\"\"\r\n",
    "    if a not in [2,7,8,11,13]:\r\n",
    "        raise ValueError(\"'a' must be 2,7,8,11 or 13\")\r\n",
    "    U = QuantumCircuit(eig_qubits)        \r\n",
    "    for iteration in range(power):\r\n",
    "        if a in [2,13]:\r\n",
    "            U.swap(0,1)\r\n",
    "            U.swap(1,2)\r\n",
    "            U.swap(2,3)\r\n",
    "        if a in [7,8]:\r\n",
    "            U.swap(2,3)\r\n",
    "            U.swap(1,2)\r\n",
    "            U.swap(0,1)\r\n",
    "        if a == 11:\r\n",
    "            U.swap(1,3)\r\n",
    "            U.swap(0,2)\r\n",
    "        if a in [7,11,13]:\r\n",
    "            for q in range(4):\r\n",
    "                U.x(q)\r\n",
    "    return U\r\n",
    "\r\n",
    "circ = c_amod15(a,1)\r\n",
    "circ.save_unitary(label='unitary', pershot=False)\r\n",
    "\r\n",
    "# Transpile for simulator\r\n",
    "simulator = Aer.get_backend('aer_simulator')\r\n",
    "circ = transpile(circ, simulator)\r\n",
    "\r\n",
    "# Run and get unitary\r\n",
    "result = simulator.run(circ).result()\r\n",
    "unitary = result.get_unitary(circ)\r\n",
    "array_to_latex(unitary.round(5), pretext=\"\\\\text{Circuit unitary} = \")"
   ],
   "outputs": [
    {
     "output_type": "display_data",
     "data": {
      "text/plain": [
       "<IPython.core.display.Math object>"
      ],
      "text/latex": [
       "$\\displaystyle \n",
       "\\text{Circuit unitary} = \\begin{bmatrix}\n",
       "1 & 0 & 0 & 0 & 0 & 0 & 0 & 0 & 0 & 0 & 0 & 0 & 0 & 0 & 0 & 0  \\\\\n",
       "0 & 0 & 1 & 0 & 0 & 0 & 0 & 0 & 0 & 0 & 0 & 0 & 0 & 0 & 0 & 0  \\\\\n",
       "0 & 0 & 0 & 0 & 1 & 0 & 0 & 0 & 0 & 0 & 0 & 0 & 0 & 0 & 0 & 0  \\\\\n",
       "0 & 0 & 0 & 0 & 0 & 0 & 1 & 0 & 0 & 0 & 0 & 0 & 0 & 0 & 0 & 0  \\\\\n",
       "0 & 0 & 0 & 0 & 0 & 0 & 0 & 0 & 1 & 0 & 0 & 0 & 0 & 0 & 0 & 0  \\\\\n",
       "0 & 0 & 0 & 0 & 0 & 0 & 0 & 0 & 0 & 0 & 1 & 0 & 0 & 0 & 0 & 0  \\\\\n",
       "0 & 0 & 0 & 0 & 0 & 0 & 0 & 0 & 0 & 0 & 0 & 0 & 1 & 0 & 0 & 0  \\\\\n",
       "0 & 0 & 0 & 0 & 0 & 0 & 0 & 0 & 0 & 0 & 0 & 0 & 0 & 0 & 1 & 0  \\\\\n",
       "0 & 1 & 0 & 0 & 0 & 0 & 0 & 0 & 0 & 0 & 0 & 0 & 0 & 0 & 0 & 0  \\\\\n",
       "0 & 0 & 0 & 1 & 0 & 0 & 0 & 0 & 0 & 0 & 0 & 0 & 0 & 0 & 0 & 0  \\\\\n",
       "0 & 0 & 0 & 0 & 0 & 1 & 0 & 0 & 0 & 0 & 0 & 0 & 0 & 0 & 0 & 0  \\\\\n",
       "0 & 0 & 0 & 0 & 0 & 0 & 0 & 1 & 0 & 0 & 0 & 0 & 0 & 0 & 0 & 0  \\\\\n",
       "0 & 0 & 0 & 0 & 0 & 0 & 0 & 0 & 0 & 1 & 0 & 0 & 0 & 0 & 0 & 0  \\\\\n",
       "0 & 0 & 0 & 0 & 0 & 0 & 0 & 0 & 0 & 0 & 0 & 1 & 0 & 0 & 0 & 0  \\\\\n",
       "0 & 0 & 0 & 0 & 0 & 0 & 0 & 0 & 0 & 0 & 0 & 0 & 0 & 1 & 0 & 0  \\\\\n",
       "0 & 0 & 0 & 0 & 0 & 0 & 0 & 0 & 0 & 0 & 0 & 0 & 0 & 0 & 0 & 1  \\\\\n",
       "\\end{bmatrix}\n",
       "$$\n",
       "$"
      ]
     },
     "metadata": {}
    }
   ],
   "metadata": {}
  },
  {
   "cell_type": "code",
   "execution_count": 10,
   "source": [
    "np.array_equal(U_matrix,unitary)"
   ],
   "outputs": [
    {
     "output_type": "execute_result",
     "data": {
      "text/plain": [
       "True"
      ]
     },
     "metadata": {},
     "execution_count": 10
    }
   ],
   "metadata": {}
  },
  {
   "cell_type": "code",
   "execution_count": 11,
   "source": [
    "def c_amod15(a, power):\r\n",
    "    \"\"\"Controlled multiplication by a mod 15\"\"\"\r\n",
    "    if a not in [2,7,8,11,13]:\r\n",
    "        raise ValueError(\"'a' must be 2,7,8,11 or 13\")\r\n",
    "    U = QuantumCircuit(4)        \r\n",
    "    for iteration in range(power):\r\n",
    "        if a in [2,13]:\r\n",
    "            U.swap(0,1)\r\n",
    "            U.swap(1,2)\r\n",
    "            U.swap(2,3)\r\n",
    "        if a in [7,8]:\r\n",
    "            U.swap(2,3)\r\n",
    "            U.swap(1,2)\r\n",
    "            U.swap(0,1)\r\n",
    "        if a == 11:\r\n",
    "            U.swap(1,3)\r\n",
    "            U.swap(0,2)\r\n",
    "        if a in [7,11,13]:\r\n",
    "            for q in range(4):\r\n",
    "                U.x(q)\r\n",
    "    U = U.to_gate()\r\n",
    "    U.name = \"%i^%i mod 15\" % (a, power)\r\n",
    "    c_U = U.control()\r\n",
    "    return c_U"
   ],
   "outputs": [],
   "metadata": {}
  },
  {
   "cell_type": "code",
   "execution_count": 12,
   "source": [
    "# Create operator   \r\n",
    "U = Operator(U_matrix)\r\n",
    "# Add to a circuit\r\n",
    "def c_amodN(exponent, eig_qubits):\r\n",
    "    \"\"\"Controlled multiplication by a mod N\"\"\"\r\n",
    "    circ = QuantumCircuit(eig_qubits)\r\n",
    "    for i in range(exponent):\r\n",
    "        circ.append(U, [i for i in range(eig_qubits)])\r\n",
    "    exp_U_gate = circ.to_gate(label='{}^{} mod {}'.format(a,exponent, N)).control()\r\n",
    "    return exp_U_gate"
   ],
   "outputs": [],
   "metadata": {}
  },
  {
   "cell_type": "code",
   "execution_count": 13,
   "source": [
    "def qft_dagger_gate(n):\r\n",
    "    circ = QuantumCircuit(n)\r\n",
    "    for qubit in range(n//2):\r\n",
    "        circ.swap(qubit, n-qubit-1)\r\n",
    "        \r\n",
    "    for j in range(n):\r\n",
    "        for m in range(j):\r\n",
    "            circ.cp(-math.pi/float(2**(j-m)), m, j)\r\n",
    "        circ.h(j)\r\n",
    "    qft_gate = circ.to_gate(label='QFT+')\r\n",
    "    return qft_gate"
   ],
   "outputs": [],
   "metadata": {}
  },
  {
   "cell_type": "code",
   "execution_count": 14,
   "source": [
    "# PERIOD FINDING CIRCUIT\r\n",
    "qpe_p = QuantumCircuit(control_qubits+eig_qubits, control_qubits)\r\n",
    "\r\n",
    "for i in range(control_qubits):\r\n",
    "    qpe_p.h(i)\r\n",
    "\r\n",
    "qpe_p.x(control_qubits+eig_qubits-1)\r\n",
    "qpe_p.barrier()\r\n",
    "\r\n",
    "# Do controlled-U operations\r\n",
    "\r\n",
    "for q in range(control_qubits):\r\n",
    "    qpe_p.append(c_amod15(a, 2**q), \r\n",
    "             [q] + [i+control_qubits for i in range(eig_qubits)])\r\n",
    "    \r\n",
    "#for q in range(control_qubits):\r\n",
    "#    qpe_p.append(c_amodN(2**q, eig_qubits), [q] + [i+control_qubits for i in range(eig_qubits)])\r\n",
    "    \r\n",
    "qpe_p.barrier()\r\n",
    "qft_d_gate = qft_dagger_gate(control_qubits)\r\n",
    "qpe_p.append(qft_d_gate, [i for i in range(control_qubits)])\r\n",
    "qpe_p.barrier()\r\n",
    "\r\n",
    "for i in range(control_qubits):\r\n",
    "    qpe_p.measure(i, i)"
   ],
   "outputs": [],
   "metadata": {}
  },
  {
   "cell_type": "code",
   "execution_count": 15,
   "source": [
    "qpe_p.draw(fold=-1)"
   ],
   "outputs": [
    {
     "output_type": "execute_result",
     "data": {
      "text/plain": [
       "     ┌───┐ ░                                                                                              ░ ┌───────┐ ░ ┌─┐               \n",
       "q_0: ┤ H ├─░────────■─────────────────────────────────────────────────────────────────────────────────────░─┤0      ├─░─┤M├───────────────\n",
       "     ├───┤ ░        │                                                                                     ░ │       │ ░ └╥┘┌─┐            \n",
       "q_1: ┤ H ├─░────────┼──────────────■──────────────────────────────────────────────────────────────────────░─┤1      ├─░──╫─┤M├────────────\n",
       "     ├───┤ ░        │              │                                                                      ░ │       │ ░  ║ └╥┘┌─┐         \n",
       "q_2: ┤ H ├─░────────┼──────────────┼──────────────■───────────────────────────────────────────────────────░─┤2      ├─░──╫──╫─┤M├─────────\n",
       "     ├───┤ ░        │              │              │                                                       ░ │  QFT+ │ ░  ║  ║ └╥┘┌─┐      \n",
       "q_3: ┤ H ├─░────────┼──────────────┼──────────────┼──────────────■────────────────────────────────────────░─┤3      ├─░──╫──╫──╫─┤M├──────\n",
       "     ├───┤ ░        │              │              │              │                                        ░ │       │ ░  ║  ║  ║ └╥┘┌─┐   \n",
       "q_4: ┤ H ├─░────────┼──────────────┼──────────────┼──────────────┼──────────────■─────────────────────────░─┤4      ├─░──╫──╫──╫──╫─┤M├───\n",
       "     ├───┤ ░        │              │              │              │              │                         ░ │       │ ░  ║  ║  ║  ║ └╥┘┌─┐\n",
       "q_5: ┤ H ├─░────────┼──────────────┼──────────────┼──────────────┼──────────────┼───────────────■─────────░─┤5      ├─░──╫──╫──╫──╫──╫─┤M├\n",
       "     └───┘ ░ ┌──────┴──────┐┌──────┴──────┐┌──────┴──────┐┌──────┴──────┐┌──────┴───────┐┌──────┴───────┐ ░ └───────┘ ░  ║  ║  ║  ║  ║ └╥┘\n",
       "q_6: ──────░─┤0            ├┤0            ├┤0            ├┤0            ├┤0             ├┤0             ├─░───────────░──╫──╫──╫──╫──╫──╫─\n",
       "           ░ │             ││             ││             ││             ││              ││              │ ░           ░  ║  ║  ║  ║  ║  ║ \n",
       "q_7: ──────░─┤1            ├┤1            ├┤1            ├┤1            ├┤1             ├┤1             ├─░───────────░──╫──╫──╫──╫──╫──╫─\n",
       "           ░ │  2^1 mod 15 ││  2^2 mod 15 ││  2^4 mod 15 ││  2^8 mod 15 ││  2^16 mod 15 ││  2^32 mod 15 │ ░           ░  ║  ║  ║  ║  ║  ║ \n",
       "q_8: ──────░─┤2            ├┤2            ├┤2            ├┤2            ├┤2             ├┤2             ├─░───────────░──╫──╫──╫──╫──╫──╫─\n",
       "     ┌───┐ ░ │             ││             ││             ││             ││              ││              │ ░           ░  ║  ║  ║  ║  ║  ║ \n",
       "q_9: ┤ X ├─░─┤3            ├┤3            ├┤3            ├┤3            ├┤3             ├┤3             ├─░───────────░──╫──╫──╫──╫──╫──╫─\n",
       "     └───┘ ░ └─────────────┘└─────────────┘└─────────────┘└─────────────┘└──────────────┘└──────────────┘ ░           ░  ║  ║  ║  ║  ║  ║ \n",
       "c: 6/════════════════════════════════════════════════════════════════════════════════════════════════════════════════════╩══╩══╩══╩══╩══╩═\n",
       "                                                                                                                         0  1  2  3  4  5 "
      ],
      "text/html": [
       "<pre style=\"word-wrap: normal;white-space: pre;background: #fff0;line-height: 1.1;font-family: &quot;Courier New&quot;,Courier,monospace\">     ┌───┐ ░                                                                                              ░ ┌───────┐ ░ ┌─┐               \n",
       "q_0: ┤ H ├─░────────■─────────────────────────────────────────────────────────────────────────────────────░─┤0      ├─░─┤M├───────────────\n",
       "     ├───┤ ░        │                                                                                     ░ │       │ ░ └╥┘┌─┐            \n",
       "q_1: ┤ H ├─░────────┼──────────────■──────────────────────────────────────────────────────────────────────░─┤1      ├─░──╫─┤M├────────────\n",
       "     ├───┤ ░        │              │                                                                      ░ │       │ ░  ║ └╥┘┌─┐         \n",
       "q_2: ┤ H ├─░────────┼──────────────┼──────────────■───────────────────────────────────────────────────────░─┤2      ├─░──╫──╫─┤M├─────────\n",
       "     ├───┤ ░        │              │              │                                                       ░ │  QFT+ │ ░  ║  ║ └╥┘┌─┐      \n",
       "q_3: ┤ H ├─░────────┼──────────────┼──────────────┼──────────────■────────────────────────────────────────░─┤3      ├─░──╫──╫──╫─┤M├──────\n",
       "     ├───┤ ░        │              │              │              │                                        ░ │       │ ░  ║  ║  ║ └╥┘┌─┐   \n",
       "q_4: ┤ H ├─░────────┼──────────────┼──────────────┼──────────────┼──────────────■─────────────────────────░─┤4      ├─░──╫──╫──╫──╫─┤M├───\n",
       "     ├───┤ ░        │              │              │              │              │                         ░ │       │ ░  ║  ║  ║  ║ └╥┘┌─┐\n",
       "q_5: ┤ H ├─░────────┼──────────────┼──────────────┼──────────────┼──────────────┼───────────────■─────────░─┤5      ├─░──╫──╫──╫──╫──╫─┤M├\n",
       "     └───┘ ░ ┌──────┴──────┐┌──────┴──────┐┌──────┴──────┐┌──────┴──────┐┌──────┴───────┐┌──────┴───────┐ ░ └───────┘ ░  ║  ║  ║  ║  ║ └╥┘\n",
       "q_6: ──────░─┤0            ├┤0            ├┤0            ├┤0            ├┤0             ├┤0             ├─░───────────░──╫──╫──╫──╫──╫──╫─\n",
       "           ░ │             ││             ││             ││             ││              ││              │ ░           ░  ║  ║  ║  ║  ║  ║ \n",
       "q_7: ──────░─┤1            ├┤1            ├┤1            ├┤1            ├┤1             ├┤1             ├─░───────────░──╫──╫──╫──╫──╫──╫─\n",
       "           ░ │  2^1 mod 15 ││  2^2 mod 15 ││  2^4 mod 15 ││  2^8 mod 15 ││  2^16 mod 15 ││  2^32 mod 15 │ ░           ░  ║  ║  ║  ║  ║  ║ \n",
       "q_8: ──────░─┤2            ├┤2            ├┤2            ├┤2            ├┤2             ├┤2             ├─░───────────░──╫──╫──╫──╫──╫──╫─\n",
       "     ┌───┐ ░ │             ││             ││             ││             ││              ││              │ ░           ░  ║  ║  ║  ║  ║  ║ \n",
       "q_9: ┤ X ├─░─┤3            ├┤3            ├┤3            ├┤3            ├┤3             ├┤3             ├─░───────────░──╫──╫──╫──╫──╫──╫─\n",
       "     └───┘ ░ └─────────────┘└─────────────┘└─────────────┘└─────────────┘└──────────────┘└──────────────┘ ░           ░  ║  ║  ║  ║  ║  ║ \n",
       "c: 6/════════════════════════════════════════════════════════════════════════════════════════════════════════════════════╩══╩══╩══╩══╩══╩═\n",
       "                                                                                                                         0  1  2  3  4  5 </pre>"
      ]
     },
     "metadata": {},
     "execution_count": 15
    }
   ],
   "metadata": {}
  },
  {
   "cell_type": "code",
   "execution_count": 16,
   "source": [
    "backend = Aer.get_backend('qasm_simulator')\r\n",
    "results = execute(qpe_p, backend=backend).result()\r\n",
    "answer = results.get_counts()\r\n",
    "\r\n",
    "plot_histogram(answer)"
   ],
   "outputs": [
    {
     "output_type": "execute_result",
     "data": {
      "text/plain": [
       "<Figure size 504x360 with 1 Axes>"
      ],
      "image/png": "[encoded data removed]"
     },
     "metadata": {},
     "execution_count": 16
    }
   ],
   "metadata": {}
  },
  {
   "cell_type": "code",
   "execution_count": 17,
   "source": [
    "answer"
   ],
   "outputs": [
    {
     "output_type": "execute_result",
     "data": {
      "text/plain": [
       "{'110000': 273, '000000': 233, '100000': 267, '010000': 251}"
      ]
     },
     "metadata": {},
     "execution_count": 17
    }
   ],
   "metadata": {}
  },
  {
   "cell_type": "code",
   "execution_count": 18,
   "source": [
    "rows, measured_phases = [], []\r\n",
    "for output in answer:\r\n",
    "    if answer[output] > 20:\r\n",
    "        decimal = int(output, 2)\r\n",
    "        phase = decimal/(2**control_qubits)\r\n",
    "        measured_phases.append(phase)\r\n",
    "        # Add these values to the rows in our table:\r\n",
    "        rows.append([f\"{output}(bin) = {decimal:>3}(dec)\", \r\n",
    "                     f\"{decimal}/{2**control_qubits} = {phase:.2f}\"])\r\n",
    "# Print the rows in a table\r\n",
    "headers=[\"Register Output\", \"Phase\"]\r\n",
    "df = pd.DataFrame(rows, columns=headers)\r\n",
    "print(df)"
   ],
   "outputs": [
    {
     "output_type": "stream",
     "name": "stdout",
     "text": [
      "          Register Output         Phase\n",
      "0  110000(bin) =  48(dec)  48/64 = 0.75\n",
      "1  000000(bin) =   0(dec)   0/64 = 0.00\n",
      "2  100000(bin) =  32(dec)  32/64 = 0.50\n",
      "3  010000(bin) =  16(dec)  16/64 = 0.25\n"
     ]
    }
   ],
   "metadata": {}
  },
  {
   "cell_type": "code",
   "execution_count": 19,
   "source": [
    "rows = []\r\n",
    "for phase in measured_phases:\r\n",
    "    frac = Fraction(phase).limit_denominator(N)\r\n",
    "    rows.append([phase, f\"{frac.numerator}/{frac.denominator}\", frac.denominator])\r\n",
    "# Print as a table\r\n",
    "headers=[\"Phase\", \"Fraction\", \"Guess for r\"]\r\n",
    "df = pd.DataFrame(rows, columns=headers)\r\n",
    "print(df)"
   ],
   "outputs": [
    {
     "output_type": "stream",
     "name": "stdout",
     "text": [
      "   Phase Fraction  Guess for r\n",
      "0   0.75      3/4            4\n",
      "1   0.00      0/1            1\n",
      "2   0.50      1/2            2\n",
      "3   0.25      1/4            4\n"
     ]
    }
   ],
   "metadata": {}
  },
  {
   "cell_type": "code",
   "execution_count": 20,
   "source": [
    "r = 4\r\n",
    "# Compute the non-trivial factor.\r\n",
    "y = a**(r // 2) % N\r\n",
    "assert 1 < y < N\r\n",
    "q = math.gcd(y - 1, N)\r\n",
    "p = math.gcd(y + 1, N)\r\n",
    "if 1 < q < N and 1 < p < N :\r\n",
    "    print(f'{p}*{q}={N}')"
   ],
   "outputs": [
    {
     "output_type": "stream",
     "name": "stdout",
     "text": [
      "5*3=15\n"
     ]
    }
   ],
   "metadata": {}
  }
 ],
 "metadata": {
  "orig_nbformat": 4,
  "language_info": {
   "name": "python",
   "version": "3.8.5",
   "mimetype": "text/x-python",
   "codemirror_mode": {
    "name": "ipython",
    "version": 3
   },
   "pygments_lexer": "ipython3",
   "nbconvert_exporter": "python",
   "file_extension": ".py"
  },
  "kernelspec": {
   "name": "python3",
   "display_name": "Python 3.8.5 64-bit ('base': conda)"
  },
  "interpreter": {
   "hash": "b023ca55750aef3cef757915e7313818798c830a4264741bc3bf0d3b22c563f7"
  }
 },
 "nbformat": 4,
 "nbformat_minor": 2
}