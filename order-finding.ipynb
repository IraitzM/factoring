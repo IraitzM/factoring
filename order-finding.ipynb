{
 "cells": [
  {
   "cell_type": "markdown",
   "source": [
    "# Order finding\r\n",
    "\r\n",
    "Factoring an integer $n$ can be reduced to finding the period of the *modular exponential function* (to be defined). Finding this period can be accomplished (with high probability) by finding the *order* of a randomly chosen element of the multiplicative group modulo $n$.\r\n",
    "\r\n",
    "Let $n$ be a positive integer and $$ Z_n = \\{ x \\in \\Z_{+} : x < n \\text{ and } gcd(x,n) = 1 \\} $$ be the multiplicative group modulo $n$. Given $ x \\in Z $, compute the smallest positive integer $r$ such that $x^r \\text{ mod } n = 1$."
   ],
   "metadata": {}
  },
  {
   "cell_type": "code",
   "execution_count": 1,
   "source": [
    "\"\"\"Imports for the notebook.\"\"\"\r\n",
    "import fractions\r\n",
    "import math\r\n",
    "import random\r\n",
    "\r\n",
    "import numpy as np\r\n",
    "import sympy\r\n",
    "from typing import Callable, List, Optional, Sequence, Union"
   ],
   "outputs": [],
   "metadata": {}
  },
  {
   "cell_type": "code",
   "execution_count": 2,
   "source": [
    "\"\"\"Function to compute the elements of Z_n.\"\"\"\r\n",
    "def multiplicative_group(n: int) -> List[int]:\r\n",
    "    \"\"\"Returns the multiplicative group modulo n.\r\n",
    "\r\n",
    "    Args:\r\n",
    "        n: Modulus of the multiplicative group.\r\n",
    "    \"\"\"\r\n",
    "    assert n > 1\r\n",
    "    group = [1]\r\n",
    "    for x in range(2, n):\r\n",
    "        if math.gcd(x, n) == 1:\r\n",
    "            group.append(x)\r\n",
    "    return group"
   ],
   "outputs": [],
   "metadata": {}
  },
  {
   "cell_type": "code",
   "execution_count": 3,
   "source": [
    "\"\"\"Example of a multiplicative group.\"\"\"\r\n",
    "n = 21\r\n",
    "print(f\"The multiplicative group modulo n = {n} is:\")\r\n",
    "print(multiplicative_group(n))"
   ],
   "outputs": [
    {
     "output_type": "stream",
     "name": "stdout",
     "text": [
      "The multiplicative group modulo n = 21 is:\n",
      "[1, 2, 4, 5, 8, 10, 11, 13, 16, 17, 19, 20]\n"
     ]
    }
   ],
   "metadata": {}
  },
  {
   "cell_type": "markdown",
   "source": [
    "# Classic order finding"
   ],
   "metadata": {}
  },
  {
   "cell_type": "code",
   "execution_count": 4,
   "source": [
    "\"\"\"Function for classically computing the order of an element of Z_n.\"\"\"\r\n",
    "def classical_order_finder(x: int, n: int) -> Optional[int]:\r\n",
    "    \"\"\"Computes smallest positive r such that x**r mod n == 1.\r\n",
    "\r\n",
    "    Args:\r\n",
    "        x: Integer whose order is to be computed, must be greater than one\r\n",
    "           and belong to the multiplicative group of integers modulo n (which\r\n",
    "           consists of positive integers relatively prime to n),\r\n",
    "        n: Modulus of the multiplicative group.\r\n",
    "\r\n",
    "    Returns:\r\n",
    "        Smallest positive integer r such that x**r == 1 mod n.\r\n",
    "        Always succeeds (and hence never returns None).\r\n",
    "\r\n",
    "    Raises:\r\n",
    "        ValueError when x is 1 or not an element of the multiplicative\r\n",
    "        group of integers modulo n.\r\n",
    "    \"\"\"\r\n",
    "    # Make sure x is both valid and in Z_n.\r\n",
    "    if x < 2 or x >= n or math.gcd(x, n) > 1:\r\n",
    "        raise ValueError(f\"Invalid x={x} for modulus n={n}.\")\r\n",
    "\r\n",
    "    # Determine the order.\r\n",
    "    r, y = 1, x\r\n",
    "    while y != 1:\r\n",
    "        y = (x * y) % n\r\n",
    "        r += 1\r\n",
    "    return r"
   ],
   "outputs": [],
   "metadata": {}
  },
  {
   "cell_type": "code",
   "execution_count": 5,
   "source": [
    "\"\"\"Example of (classically) computing the order of an element.\"\"\"\r\n",
    "x = 2\r\n",
    "r = classical_order_finder(x, n)\r\n",
    "\r\n",
    "# Check that the order is indeed correct.\r\n",
    "print(f\"x^r mod n = {x}^{r} mod {n} = {x**r % n}\")"
   ],
   "outputs": [
    {
     "output_type": "stream",
     "name": "stdout",
     "text": [
      "x^r mod n = 2^6 mod 21 = 1\n"
     ]
    }
   ],
   "metadata": {}
  },
  {
   "cell_type": "code",
   "execution_count": 9,
   "source": [
    "# Compute the non-trivial factor.\r\n",
    "y = x**(r // 2) % n\r\n",
    "assert 1 < y < n\r\n",
    "q = math.gcd(y - 1, n)\r\n",
    "p = math.gcd(y + 1, n)\r\n",
    "if 1 < q < n and 1 < p < n :\r\n",
    "    print(f'{p}*{q}={n}')"
   ],
   "outputs": [
    {
     "output_type": "stream",
     "name": "stdout",
     "text": [
      "3*7=21\n"
     ]
    }
   ],
   "metadata": {}
  }
 ],
 "metadata": {
  "orig_nbformat": 4,
  "language_info": {
   "name": "python",
   "version": "3.8.5",
   "mimetype": "text/x-python",
   "codemirror_mode": {
    "name": "ipython",
    "version": 3
   },
   "pygments_lexer": "ipython3",
   "nbconvert_exporter": "python",
   "file_extension": ".py"
  },
  "kernelspec": {
   "name": "python3",
   "display_name": "Python 3.8.5 64-bit ('base': conda)"
  },
  "interpreter": {
   "hash": "b023ca55750aef3cef757915e7313818798c830a4264741bc3bf0d3b22c563f7"
  }
 },
 "nbformat": 4,
 "nbformat_minor": 2
}