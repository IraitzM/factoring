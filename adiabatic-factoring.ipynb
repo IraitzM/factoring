{
 "cells": [
  {
   "cell_type": "markdown",
   "source": [
    "# Adiabatic"
   ],
   "metadata": {}
  },
  {
   "cell_type": "markdown",
   "source": [
    "## Factoring as a Constraint Satisfaction Problem\r\n",
    "The [complexity class](https://en.wikipedia.org/wiki/Complexity_class) for classical integer factoring is believed to be between P and NP-hard.  Although research has yielded algorithms that perform faster than the intuitive trial division, including Fermat's algorithm, Pollard's two algorithms, and sieve algorithms, it's still an open question whether a classical algorithm exists that can factor in [polynomial time](https://en.wikipedia.org/wiki/Time_complexity). For quantum computing, Shor's algorithm runs in polynomial time (the D-Wave system does not run this algorithm).  \r\n",
    "\r\n",
    "This notebook solves factoring on a D-Wave quantum computer by formulating it as a *[constraint satisfaction problem](https://docs.ocean.dwavesys.com/en/stable/concepts/csp.html)*. CSPs require that all a problem's variables be assigned values that result in the satisfying of all constraints. For factoring, the problem's constraints are that the two variables representing factors, $a$ and $b$, be assigned only natural numbers and that their multiplication be equal to the factored number, $P$. \r\n",
    "\r\n",
    "Among CSPs are hard problems well suited to solution on quantum computers. For example, the map-coloring problem is to color all regions of a map such that any two regions sharing a border have different colors (see a D-Wave system solve a four-color map-coloring problem here: [Ocean software examples](https://docs.ocean.dwavesys.com/en/stable/getting_started.html#examples)). The job-shop scheduling problem is to schedule multiple jobs done on several machines with constraints on the machines' execution of tasks. You can apply the solution technique shown here to many CSPs. "
   ],
   "metadata": {}
  },
  {
   "cell_type": "code",
   "execution_count": null,
   "source": [
    "import dwavebinarycsp as dbc"
   ],
   "outputs": [],
   "metadata": {}
  },
  {
   "cell_type": "code",
   "execution_count": 3,
   "source": [
    "P = 21  \r\n",
    "\r\n",
    "bP = \"{:06b}\".format(P)    # \"{:06b}\" formats for 6-bit binary\r\n",
    "print(bP)"
   ],
   "outputs": [
    {
     "output_type": "stream",
     "name": "stdout",
     "text": [
      "010101\n"
     ]
    }
   ],
   "metadata": {}
  },
  {
   "cell_type": "markdown",
   "source": [
    "One option is to express the constraints of the problem with Boolean logic. This technique is very versatile: modern computing is built on Boolean gates, the scope of addressable problems is immense. The implementation below follows these steps:\r\n",
    "\r\n",
    "1. Express $P=ab$ as a CSP with a binary multiplication circuit.\r\n",
    "2. Convert to a BQM.\r\n",
    "3. Program the quantum computer with the BQM's coefficients.\r\n",
    "\r\n",
    "Some differences between the two formulations are noted below."
   ],
   "metadata": {}
  },
  {
   "cell_type": "code",
   "execution_count": 4,
   "source": [
    "csp = dbc.factories.multiplication_circuit(3)\r\n",
    "\r\n",
    "print(next(iter(csp.constraints)))"
   ],
   "outputs": [
    {
     "output_type": "stream",
     "name": "stdout",
     "text": [
      "Constraint.from_configurations(frozenset({(1, 0, 0), (0, 0, 0), (1, 1, 1), (0, 1, 0)}), ('a0', 'b0', 'p0'), Vartype.BINARY, name='AND(a0, b0) = p0')\n"
     ]
    }
   ],
   "metadata": {}
  },
  {
   "cell_type": "code",
   "execution_count": 5,
   "source": [
    "bqm = dbc.stitch(csp, min_classical_gap=.1)\r\n",
    "\r\n",
    "print(\"BQM has {} variables: \\n\\t{}\".format(len(bqm.variables), list(bqm.variables)))"
   ],
   "outputs": [
    {
     "output_type": "stream",
     "name": "stdout",
     "text": [
      "BQM has 27 variables: \n",
      "\t['a0', 'b0', 'p0', 'b1', 'and0,1', 'b2', 'and0,2', 'a1', 'and1,0', 'p1', 'carry1,0', 'and1,1', 'sum1,1', 'carry1,1', 'and1,2', 'a2', 'and2,0', 'p2', 'carry2,0', 'and2,1', 'sum2,1', 'carry2,1', 'and2,2', 'p3', 'carry3,0', 'p4', 'p5']\n"
     ]
    }
   ],
   "metadata": {}
  },
  {
   "cell_type": "code",
   "execution_count": 13,
   "source": [
    "p_vars = ['p0', 'p1', 'p2', 'p3', 'p4', 'p5']\r\n",
    "\r\n",
    "# Convert P from decimal to binary\r\n",
    "fixed_variables = dict(zip(reversed(p_vars), \"{:06b}\".format(P)))\r\n",
    "fixed_variables = {var: int(x) for(var, x) in fixed_variables.items()}\r\n",
    "\r\n",
    "# Fix product variables\r\n",
    "for var, value in fixed_variables.items():\r\n",
    "    bqm.fix_variable(var, value)\r\n",
    "    \r\n",
    "print(\"BQM has {} non-fixed variables: \\n\\t{}\".format(len(bqm.variables), list(bqm.variables)))"
   ],
   "outputs": [
    {
     "output_type": "stream",
     "name": "stdout",
     "text": [
      "BQM has 21 non-fixed variables: \n",
      "\t['a0', 'b0', 'b1', 'and0,1', 'b2', 'and0,2', 'a1', 'and1,0', 'carry1,0', 'and1,1', 'sum1,1', 'carry1,1', 'and1,2', 'a2', 'and2,0', 'carry2,0', 'and2,1', 'sum2,1', 'carry2,1', 'and2,2', 'carry3,0']\n"
     ]
    }
   ],
   "metadata": {}
  },
  {
   "cell_type": "code",
   "execution_count": 14,
   "source": [
    "from dwave.system import DWaveSampler\r\n",
    "\r\n",
    "# Use a D-Wave system as the sampler\r\n",
    "sampler = DWaveSampler() \r\n",
    "\r\n",
    "print(\"QPU {} was selected.\".format(sampler.solver.name))"
   ],
   "outputs": [
    {
     "output_type": "stream",
     "name": "stdout",
     "text": [
      "QPU Advantage_system1.1 was selected.\n"
     ]
    }
   ],
   "metadata": {}
  },
  {
   "cell_type": "code",
   "execution_count": 15,
   "source": [
    "from dwave.system import EmbeddingComposite\r\n",
    "\r\n",
    "embedding_sampler = EmbeddingComposite(sampler)"
   ],
   "outputs": [],
   "metadata": {}
  },
  {
   "cell_type": "code",
   "execution_count": 16,
   "source": [
    "sampleset = embedding_sampler.sample(bqm, num_reads=100, label='Notebook - Factoring')\r\n",
    "\r\n",
    "print(\"Best solution found: \\n\",sampleset.first.sample)"
   ],
   "outputs": [
    {
     "output_type": "stream",
     "name": "stdout",
     "text": [
      "Best solution found: \n",
      " {'a0': 1, 'a1': 1, 'a2': 1, 'and0,1': 1, 'and0,2': 0, 'and1,0': 1, 'and1,1': 1, 'and1,2': 0, 'and2,0': 1, 'and2,1': 1, 'and2,2': 0, 'b0': 1, 'b1': 1, 'b2': 0, 'carry1,0': 1, 'carry1,1': 0, 'carry2,0': 1, 'carry2,1': 0, 'carry3,0': 1, 'sum1,1': 1, 'sum2,1': 1}\n"
     ]
    }
   ],
   "metadata": {}
  },
  {
   "cell_type": "code",
   "execution_count": 17,
   "source": [
    "def to_base_ten(sample):\r\n",
    "    a = b = 0\r\n",
    "    \r\n",
    "    # we know that multiplication_circuit() has created these variables\r\n",
    "    a_vars = ['a0', 'a1', 'a2']\r\n",
    "    b_vars = ['b0', 'b1', 'b2']\r\n",
    "    \r\n",
    "    for lbl in reversed(a_vars):\r\n",
    "        a = (a << 1) | sample[lbl]\r\n",
    "    for lbl in reversed(b_vars):\r\n",
    "        b = (b << 1) | sample[lbl] \r\n",
    "        \r\n",
    "    return a,b\r\n",
    " \r\n",
    "a, b = to_base_ten(sampleset.first.sample)\r\n",
    "\r\n",
    "print(\"Given integer P={}, found factors a={} and b={}\".format(P, a, b))"
   ],
   "outputs": [
    {
     "output_type": "stream",
     "name": "stdout",
     "text": [
      "Given integer P=21, found factors a=7 and b=3\n"
     ]
    }
   ],
   "metadata": {}
  }
 ],
 "metadata": {
  "orig_nbformat": 4,
  "language_info": {
   "name": "python",
   "version": "3.8.5",
   "mimetype": "text/x-python",
   "codemirror_mode": {
    "name": "ipython",
    "version": 3
   },
   "pygments_lexer": "ipython3",
   "nbconvert_exporter": "python",
   "file_extension": ".py"
  },
  "kernelspec": {
   "name": "python3",
   "display_name": "Python 3.8.5 64-bit ('base': conda)"
  },
  "interpreter": {
   "hash": "b023ca55750aef3cef757915e7313818798c830a4264741bc3bf0d3b22c563f7"
  }
 },
 "nbformat": 4,
 "nbformat_minor": 2
}